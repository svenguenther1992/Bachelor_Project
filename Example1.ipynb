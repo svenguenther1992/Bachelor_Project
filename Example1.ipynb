{
  "nbformat": 4,
  "nbformat_minor": 0,
  "metadata": {
    "colab": {
      "name": "Example1.ipynb",
      "provenance": [],
      "collapsed_sections": []
    },
    "kernelspec": {
      "name": "python3",
      "display_name": "Python 3"
    }
  },
  "cells": [
    {
      "cell_type": "code",
      "metadata": {
        "colab": {
          "base_uri": "https://localhost:8080/"
        },
        "id": "TZFMYGab6HMo",
        "outputId": "fee4d80c-7d1f-46f3-be45-f1ef53955b93"
      },
      "source": [
        "!pip install pyreadstat\r\n",
        "import pandas as pd\r\n",
        "import pyreadstat as prs\r\n",
        "import numpy as np\r\n",
        "from scipy import stats\r\n",
        "from scipy.stats import norm\r\n",
        "from sklearn.metrics import mean_squared_error\r\n",
        "from sklearn.model_selection import cross_val_score\r\n",
        "from sklearn.model_selection import KFold\r\n",
        "from sklearn.linear_model import LinearRegression\r\n",
        "import matplotlib.pyplot as plt\r\n",
        "import seaborn as sns"
      ],
      "execution_count": 1,
      "outputs": [
        {
          "output_type": "stream",
          "text": [
            "Collecting pyreadstat\n",
            "\u001b[?25l  Downloading https://files.pythonhosted.org/packages/92/b5/878a90a733057be579f8855d21f2422b685e49e74c79357f70a84c6c91cb/pyreadstat-1.0.6-cp36-cp36m-manylinux2014_x86_64.whl (2.4MB)\n",
            "\u001b[K     |████████████████████████████████| 2.4MB 4.1MB/s \n",
            "\u001b[?25hRequirement already satisfied: pandas>0.24.0 in /usr/local/lib/python3.6/dist-packages (from pyreadstat) (1.1.5)\n",
            "Requirement already satisfied: pytz>=2017.2 in /usr/local/lib/python3.6/dist-packages (from pandas>0.24.0->pyreadstat) (2018.9)\n",
            "Requirement already satisfied: python-dateutil>=2.7.3 in /usr/local/lib/python3.6/dist-packages (from pandas>0.24.0->pyreadstat) (2.8.1)\n",
            "Requirement already satisfied: numpy>=1.15.4 in /usr/local/lib/python3.6/dist-packages (from pandas>0.24.0->pyreadstat) (1.19.4)\n",
            "Requirement already satisfied: six>=1.5 in /usr/local/lib/python3.6/dist-packages (from python-dateutil>=2.7.3->pandas>0.24.0->pyreadstat) (1.15.0)\n",
            "Installing collected packages: pyreadstat\n",
            "Successfully installed pyreadstat-1.0.6\n"
          ],
          "name": "stdout"
        }
      ]
    },
    {
      "cell_type": "code",
      "metadata": {
        "colab": {
          "base_uri": "https://localhost:8080/"
        },
        "id": "5hSfky9K6RgT",
        "outputId": "a88e31a6-0228-415f-dd3a-5221ee86dc20"
      },
      "source": [
        "from google.colab import drive\r\n",
        "drive.mount('drive')"
      ],
      "execution_count": 2,
      "outputs": [
        {
          "output_type": "stream",
          "text": [
            "Mounted at drive\n"
          ],
          "name": "stdout"
        }
      ]
    },
    {
      "cell_type": "code",
      "metadata": {
        "id": "sGTVK5jH6RzB"
      },
      "source": [
        "#Load the data\r\n",
        "df, meta = prs.read_sav(\"/content/drive/My Drive/Roy de Kleijn study data.sav\")"
      ],
      "execution_count": 3,
      "outputs": []
    },
    {
      "cell_type": "code",
      "metadata": {
        "id": "lPh-KUbx6SEg"
      },
      "source": [
        "#Extract the columns of the subject, independent variables, & dependent variable\r\n",
        "df_3 = df.loc[(df[\"ExperimentList\"]==3)][[\"Subject\", \"CategoryExp3\", \"Exp3FinalDecision\"]]\r\n",
        "\r\n",
        "#Create a dataframe\r\n",
        "df_dict = {\"Subject\":[],\"Category\":[], \"Decision\":[]}\r\n",
        "\r\n",
        "for n in df.Subject.unique():\r\n",
        "  df_dict[\"Subject\"].append(n)\r\n",
        "  df_dict[\"Category\"].append(df_3.loc[(df[\"Subject\"] == n), [\"CategoryExp3\"]].iloc[0][0])\r\n",
        "  df_dict[\"Decision\"].append(df_3.loc[(df[\"Subject\"] == n), [\"Exp3FinalDecision\"]].iloc[-1][0])\r\n",
        "\r\n",
        "data = pd.DataFrame(data=df_dict, columns=df_dict.keys())"
      ],
      "execution_count": 4,
      "outputs": []
    },
    {
      "cell_type": "code",
      "metadata": {
        "colab": {
          "base_uri": "https://localhost:8080/",
          "height": 597
        },
        "id": "0U6Otkpv6SX5",
        "outputId": "08201f61-69c1-4bd1-a7e5-46b843bad8d1"
      },
      "source": [
        "#Visualization of Data\r\n",
        "def visualization(data, factor, target):\r\n",
        "\r\n",
        "    #Distribution\r\n",
        "    plt.figure()\r\n",
        "    dist = sns.distplot(data[target], fit=norm, kde=False)\r\n",
        "    #print(dist)\r\n",
        "\r\n",
        "    #Box Plot\r\n",
        "    plt.figure()\r\n",
        "    box = sns.boxplot(x=factor, y=target, data=data)\r\n",
        "    #print(box)\r\n",
        "\r\n",
        "visualization(data, \"Category\", \"Decision\")"
      ],
      "execution_count": 5,
      "outputs": [
        {
          "output_type": "stream",
          "text": [
            "/usr/local/lib/python3.6/dist-packages/seaborn/distributions.py:2551: FutureWarning: `distplot` is a deprecated function and will be removed in a future version. Please adapt your code to use either `displot` (a figure-level function with similar flexibility) or `histplot` (an axes-level function for histograms).\n",
            "  warnings.warn(msg, FutureWarning)\n"
          ],
          "name": "stderr"
        },
        {
          "output_type": "display_data",
          "data": {
            "image/png": "[encoded data removed]",
            "text/plain": [
              "<Figure size 432x288 with 1 Axes>"
            ]
          },
          "metadata": {
            "tags": [],
            "needs_background": "light"
          }
        },
        {
          "output_type": "display_data",
          "data": {
            "image/png": "[encoded data removed]",
            "text/plain": [
              "<Figure size 432x288 with 1 Axes>"
            ]
          },
          "metadata": {
            "tags": [],
            "needs_background": "light"
          }
        }
      ]
    },
    {
      "cell_type": "code",
      "metadata": {
        "id": "unbz6Tx-6e2p"
      },
      "source": [
        "#One Way ANOVA Function (+ output table)\r\n",
        "\r\n",
        "def one_way_anova(data, factor, target):\r\n",
        "\r\n",
        "  #Calculate Means\r\n",
        "  group_means = {}\r\n",
        "  for n in data[factor].unique():\r\n",
        "    group_means[n] = data.loc[(data[factor] == n), [target]][target].mean()\r\n",
        "  \r\n",
        "  grand_mean = data[target].mean()\r\n",
        "  \r\n",
        "\r\n",
        "  #Sum of Squares\r\n",
        "  #SS Total\r\n",
        "  ss_total = 0\r\n",
        "  for n in data[target]:\r\n",
        "    ss_total += (n-grand_mean)**2\r\n",
        "\r\n",
        "  #SS Factor\r\n",
        "  ss_factor = 0\r\n",
        "  for n in group_means.keys():\r\n",
        "    ss_factor += len(data.loc[(data[factor]==n)][factor])*(group_means[n]-grand_mean)**2\r\n",
        "\r\n",
        "  #SS Within (Error)\r\n",
        "  ss_within = 0\r\n",
        "  for n in data[factor].unique():\r\n",
        "    for m in data.loc[(data[factor] == n), [target]][target]:\r\n",
        "      ss_within += (m-group_means[n])**2\r\n",
        "\r\n",
        "  \r\n",
        "  #Degrees of Freedom\r\n",
        "  df_factor = len(data[factor].unique())-1\r\n",
        "  df_within = len(data[target])-len(data[factor].unique())\r\n",
        "\r\n",
        "\r\n",
        "  #Mean Squares\r\n",
        "  ms_factor = ss_factor/df_factor\r\n",
        "  ms_within = ss_within/df_within\r\n",
        "\r\n",
        "\r\n",
        "  #F-Test\r\n",
        "  F = ms_factor/ms_within\r\n",
        "\r\n",
        "\r\n",
        "  #p-value\r\n",
        "  p_value = stats.f.sf(F,df_factor,df_within,loc=0,scale=1)\r\n",
        "\r\n",
        "\r\n",
        "  #result table\r\n",
        "  results = {\"SS\":[ss_factor, ss_within, ss_total],\r\n",
        "           \"df\":[df_factor, df_within, df_factor+df_within],\r\n",
        "           \"MS\":[ms_factor, ms_within,\"\"],\r\n",
        "           \"F\":[F, \"\", \"\"],\r\n",
        "            \"P-Value\":[p_value, \"\", \"\"]}\r\n",
        "  columns=[\"SS\", \"df\", \"MS\", \"F\", \"P-Value\"]\r\n",
        "  result_table = pd.DataFrame(results, columns=columns, index = [\"Factor\", \"Within\", \"Total\"])\r\n",
        "  output = print(f\"Group means:{group_means}\\n\\nOne-Way ANOVA:\\n{result_table}\")\r\n",
        "\r\n",
        "  return output"
      ],
      "execution_count": 6,
      "outputs": []
    },
    {
      "cell_type": "code",
      "metadata": {
        "colab": {
          "base_uri": "https://localhost:8080/"
        },
        "id": "lA2tc2146omh",
        "outputId": "f7818692-334c-4f90-8bc8-89251c7a781a"
      },
      "source": [
        "#Execute ANOVA\r\n",
        "one_way_anova(data, \"Category\", \"Decision\")"
      ],
      "execution_count": 7,
      "outputs": [
        {
          "output_type": "stream",
          "text": [
            "Group means:{'Chatbot': 2.5384615384615383, 'Human': 3.5925925925925926}\n",
            "\n",
            "One-Way ANOVA:\n",
            "               SS  df       MS        F     P-Value\n",
            "Factor  14.718056   1  14.7181  10.0109  0.00262297\n",
            "Within  74.980057  51   1.4702                     \n",
            "Total   89.698113  52                              \n"
          ],
          "name": "stdout"
        }
      ]
    },
    {
      "cell_type": "code",
      "metadata": {
        "id": "_9-gJsut6rbZ"
      },
      "source": [
        "#Function to compare mean vs. factor model with cross-validation\r\n",
        "def compare_models(X, Y, folds, repetitions):\r\n",
        "\r\n",
        "  import numpy as np\r\n",
        "  import pandas as pd\r\n",
        "  from sklearn.model_selection import cross_val_score\r\n",
        "  from sklearn.model_selection import KFold\r\n",
        "  \r\n",
        "  #Prediction by Mean (to pass to sklearn cross-validation)\r\n",
        "  class MeanPredictor():\r\n",
        "    def __init__(self, mean=None):\r\n",
        "      if mean is not None:\r\n",
        "        self.mean =mean\r\n",
        "\r\n",
        "      else:\r\n",
        "        self.mean=None\r\n",
        "\r\n",
        "    \r\n",
        "    def fit(self, X, Y):\r\n",
        "      self.mean = np.mean(Y)\r\n",
        "\r\n",
        "    def predict(self, X):\r\n",
        "      return np.full(X.shape[0], self.mean)\r\n",
        "\r\n",
        "    def get_params(self, deep=False):\r\n",
        "      return {\"mean\":self.mean}\r\n",
        "\r\n",
        "\r\n",
        "  result_list = []\r\n",
        "  win_count = 0\r\n",
        "\r\n",
        "  #Creat dummy variable (\"Chatbot\" = 1; \"Human\" = 0) for Regression\r\n",
        "  x = pd.get_dummies(X)\r\n",
        "\r\n",
        "  #For every repetition run cross-validation with mean & factor model\r\n",
        "  for n in range(repetitions):\r\n",
        "    cv = KFold(n_splits=folds, shuffle=True, random_state=n)\r\n",
        "    score1 = np.sqrt(cross_val_score(MeanPredictor(), x, Y, scoring='neg_mean_squared_error', cv=cv, n_jobs=-1).mean()*-1)\r\n",
        "    score2 = np.sqrt(cross_val_score(LinearRegression(), x, Y, scoring='neg_mean_squared_error', cv=cv, n_jobs=-1).mean()*-1)\r\n",
        "\r\n",
        "    #Count the winning model\r\n",
        "    if score1 < score2:\r\n",
        "      result_list.append([score1, 1, score2, 0])\r\n",
        "      win_count += 1\r\n",
        "\r\n",
        "    elif score1 > score2:\r\n",
        "      result_list.append([score1, 0, score2, 1])\r\n",
        "      win_count -=1\r\n",
        "\r\n",
        "    else:\r\n",
        "      result_list.append([score1, 1, score2, 1])\r\n",
        "\r\n",
        "  #Print the winner (if there is one)\r\n",
        "  if win_count > 0:\r\n",
        "     print(f\"Prediction by Mean wins in {win_count/repetitions*100}% of all repetitions!\")\r\n",
        "\r\n",
        "  elif win_count < 0:\r\n",
        "    print(f\"Factor Model wins in {win_count/repetitions*-100}% of all repetitions!\")\r\n",
        "\r\n",
        "  else:\r\n",
        "    print(\"Models are even\")\r\n",
        "  \r\n",
        "  #Create a dataframe of the RMSEs and the Wins for each model\r\n",
        "  column_names = [\"Prediction by Mean\", \"Win1\", \"Factor Model\", \"Win2\"]\r\n",
        "  df_list=pd.DataFrame(result_list, columns=column_names)\r\n",
        "  df_list.index += 1 \r\n",
        "  \r\n",
        "  return df_list"
      ],
      "execution_count": 8,
      "outputs": []
    },
    {
      "cell_type": "code",
      "metadata": {
        "colab": {
          "base_uri": "https://localhost:8080/"
        },
        "id": "Gig2QXMw6rWa",
        "outputId": "67c7f995-5c6f-4422-b981-18aad53cc078"
      },
      "source": [
        "#Run comparison function and store in “comparison” variable\r\n",
        "comparison = compare_models(data.Category, data.Decision, \r\n",
        "                            folds=10, repetitions=100)"
      ],
      "execution_count": 9,
      "outputs": [
        {
          "output_type": "stream",
          "text": [
            "Factor Model wins in 100.0% of all repetitions!\n"
          ],
          "name": "stdout"
        }
      ]
    },
    {
      "cell_type": "code",
      "metadata": {
        "colab": {
          "base_uri": "https://localhost:8080/",
          "height": 284
        },
        "id": "YKwK3sPI6rLx",
        "outputId": "75b2ebc9-ffe9-4efd-9ede-90354b50b69d"
      },
      "source": [
        "#Create box plot to compare RMSE of both models\r\n",
        "def plot_rmse(df):\r\n",
        "\r\n",
        "  plt.figure()\r\n",
        "  box_df = df[[\"Prediction by Mean\", \"Factor Model\"]]\r\n",
        "  box = sns.boxplot(data = box_df)\r\n",
        "  box = sns.swarmplot(data = box_df, color=\".25\")\r\n",
        "  print(box)\r\n",
        "\r\n",
        "plot_rmse(comparison)"
      ],
      "execution_count": 10,
      "outputs": [
        {
          "output_type": "stream",
          "text": [
            "AxesSubplot(0.125,0.125;0.775x0.755)\n"
          ],
          "name": "stdout"
        },
        {
          "output_type": "display_data",
          "data": {
            "image/png": "[encoded data removed]",
            "text/plain": [
              "<Figure size 432x288 with 1 Axes>"
            ]
          },
          "metadata": {
            "tags": [],
            "needs_background": "light"
          }
        }
      ]
    }
  ]
}
