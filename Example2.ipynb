{
  "nbformat": 4,
  "nbformat_minor": 0,
  "metadata": {
    "colab": {
      "name": "Example2.ipynb",
      "provenance": [],
      "collapsed_sections": []
    },
    "kernelspec": {
      "name": "python3",
      "display_name": "Python 3"
    }
  },
  "cells": [
    {
      "cell_type": "code",
      "metadata": {
        "colab": {
          "base_uri": "https://localhost:8080/"
        },
        "id": "Hp20dNSjAaFO",
        "outputId": "9bf0c3b8-2e09-47aa-8677-a5956e212f8d"
      },
      "source": [
        "!pip install pyreadstat\r\n",
        "import pandas as pd\r\n",
        "import pyreadstat as prs\r\n",
        "import numpy as np\r\n",
        "from scipy import stats\r\n",
        "from sklearn.metrics import mean_squared_error\r\n",
        "from sklearn.model_selection import cross_val_score\r\n",
        "from sklearn.model_selection import GroupShuffleSplit\r\n",
        "from sklearn.linear_model import LinearRegression\r\n",
        "import matplotlib.pyplot as plt\r\n",
        "import seaborn as sns"
      ],
      "execution_count": 1,
      "outputs": [
        {
          "output_type": "stream",
          "text": [
            "Collecting pyreadstat\n",
            "\u001b[?25l  Downloading https://files.pythonhosted.org/packages/92/b5/878a90a733057be579f8855d21f2422b685e49e74c79357f70a84c6c91cb/pyreadstat-1.0.6-cp36-cp36m-manylinux2014_x86_64.whl (2.4MB)\n",
            "\u001b[K     |████████████████████████████████| 2.4MB 5.6MB/s \n",
            "\u001b[?25hRequirement already satisfied: pandas>0.24.0 in /usr/local/lib/python3.6/dist-packages (from pyreadstat) (1.1.5)\n",
            "Requirement already satisfied: pytz>=2017.2 in /usr/local/lib/python3.6/dist-packages (from pandas>0.24.0->pyreadstat) (2018.9)\n",
            "Requirement already satisfied: python-dateutil>=2.7.3 in /usr/local/lib/python3.6/dist-packages (from pandas>0.24.0->pyreadstat) (2.8.1)\n",
            "Requirement already satisfied: numpy>=1.15.4 in /usr/local/lib/python3.6/dist-packages (from pandas>0.24.0->pyreadstat) (1.19.4)\n",
            "Requirement already satisfied: six>=1.5 in /usr/local/lib/python3.6/dist-packages (from python-dateutil>=2.7.3->pandas>0.24.0->pyreadstat) (1.15.0)\n",
            "Installing collected packages: pyreadstat\n",
            "Successfully installed pyreadstat-1.0.6\n"
          ],
          "name": "stdout"
        }
      ]
    },
    {
      "cell_type": "code",
      "metadata": {
        "colab": {
          "base_uri": "https://localhost:8080/"
        },
        "id": "A2IO0D-ICML3",
        "outputId": "d1f68bd4-553d-476f-ac13-481c5cc12881"
      },
      "source": [
        "from google.colab import drive\r\n",
        "drive.mount('drive')"
      ],
      "execution_count": 2,
      "outputs": [
        {
          "output_type": "stream",
          "text": [
            "Mounted at drive\n"
          ],
          "name": "stdout"
        }
      ]
    },
    {
      "cell_type": "code",
      "metadata": {
        "id": "DHM1qzQJCMiB"
      },
      "source": [
        "#Load the data\r\n",
        "df, meta = prs.read_sav(\"/content/drive/My Drive/Tab18-1.sav\")"
      ],
      "execution_count": 3,
      "outputs": []
    },
    {
      "cell_type": "code",
      "metadata": {
        "id": "eWGoRWauCMzC"
      },
      "source": [
        "#Repeated Measures ANOVA \r\n",
        "def repeated_measures_anova(data):\r\n",
        "\r\n",
        "  #Calculate grand mean\r\n",
        "  sum_x = 0\r\n",
        "  for column in data.columns:\r\n",
        "    sum_x += sum(data[column])\r\n",
        "\r\n",
        "  grand_mean = sum_x / sum(data.count())\r\n",
        "\r\n",
        "  #Calculate sums of squares\r\n",
        "  #SS Total\r\n",
        "  ss_total = 0\r\n",
        "  for column in data.columns:\r\n",
        "    for value in data[column]:\r\n",
        "      ss_total += (value-grand_mean)**2\r\n",
        "\r\n",
        "  #SS Subject\r\n",
        "  ss_subject = 0\r\n",
        "  count = 0\r\n",
        "  for subject in data.values:\r\n",
        "    ss_subject += (data.values[count].mean()-grand_mean)**2\r\n",
        "    count += 1\r\n",
        "  ss_subjects = ss_subject*len(data.columns)\r\n",
        "\r\n",
        "  #SS Week\r\n",
        "  ss_week = 0\r\n",
        "  for week in df.columns:\r\n",
        "    ss_week += (df[week].mean()-grand_mean)**2\r\n",
        "  ss_weeks = ss_week*len(df)\r\n",
        "\r\n",
        "  #SS Error\r\n",
        "  ss_error = ss_total - ss_subjects - ss_weeks\r\n",
        "\r\n",
        "\r\n",
        "  # Degrees of Freedom\r\n",
        "  df_subjects = len(df)-1\r\n",
        "  df_weeks = len(df.columns)-1\r\n",
        "  df_error = df_subjects*df_weeks\r\n",
        "  df_total = sum(df.count()) - 1\r\n",
        "\r\n",
        "\r\n",
        "  #MS\r\n",
        "  ms_weeks = ss_weeks/df_weeks\r\n",
        "  ms_error = ss_error/df_error\r\n",
        "\r\n",
        "\r\n",
        "  #F-test & p-value\r\n",
        "  F = ms_weeks/ms_error\r\n",
        "  p_value = stats.f.sf(F,df_weeks,df_error,loc=0,scale=1)\r\n",
        "\r\n",
        "  #result table\r\n",
        "  results = {\"SS\":[ss_subjects, ss_weeks, ss_error, ss_total],\r\n",
        "           \"df\":[df_subjects, df_weeks, df_error, df_total],\r\n",
        "           \"MS\":[\"\", ms_weeks, ms_error,\"\"],\r\n",
        "           \"F\":[\"\", F, \"\", \"\"],\r\n",
        "            \"P-Value\":[\"\", p_value, \"\", \"\"]}\r\n",
        "  columns=[\"SS\", \"df\", \"MS\", \"F\", \"P-Value\"]\r\n",
        "  result_table = pd.DataFrame(results, columns=columns, index = [\"Subjects\", \"Weeks\", \"Error\", \"Total\"])\r\n",
        "\r\n",
        "  return result_table"
      ],
      "execution_count": 4,
      "outputs": []
    },
    {
      "cell_type": "code",
      "metadata": {
        "colab": {
          "base_uri": "https://localhost:8080/",
          "height": 175
        },
        "id": "Lc4JG4HLGMlF",
        "outputId": "2cbf710a-f0d6-4e03-ab6e-2f10815be392"
      },
      "source": [
        "#Run Repeated Measures ANOVA\r\n",
        "repeated_measures_anova(df)"
      ],
      "execution_count": 5,
      "outputs": [
        {
          "output_type": "execute_result",
          "data": {
            "text/html": [
              "<div>\n",
              "<style scoped>\n",
              "    .dataframe tbody tr th:only-of-type {\n",
              "        vertical-align: middle;\n",
              "    }\n",
              "\n",
              "    .dataframe tbody tr th {\n",
              "        vertical-align: top;\n",
              "    }\n",
              "\n",
              "    .dataframe thead th {\n",
              "        text-align: right;\n",
              "    }\n",
              "</style>\n",
              "<table border=\"1\" class=\"dataframe\">\n",
              "  <thead>\n",
              "    <tr style=\"text-align: right;\">\n",
              "      <th></th>\n",
              "      <th>SS</th>\n",
              "      <th>df</th>\n",
              "      <th>MS</th>\n",
              "      <th>F</th>\n",
              "      <th>P-Value</th>\n",
              "    </tr>\n",
              "  </thead>\n",
              "  <tbody>\n",
              "    <tr>\n",
              "      <th>Subjects</th>\n",
              "      <td>1375.712</td>\n",
              "      <td>24</td>\n",
              "      <td></td>\n",
              "      <td></td>\n",
              "      <td></td>\n",
              "    </tr>\n",
              "    <tr>\n",
              "      <th>Weeks</th>\n",
              "      <td>121.152</td>\n",
              "      <td>4</td>\n",
              "      <td>30.288</td>\n",
              "      <td>6.40383</td>\n",
              "      <td>0.000130405</td>\n",
              "    </tr>\n",
              "    <tr>\n",
              "      <th>Error</th>\n",
              "      <td>454.048</td>\n",
              "      <td>96</td>\n",
              "      <td>4.72967</td>\n",
              "      <td></td>\n",
              "      <td></td>\n",
              "    </tr>\n",
              "    <tr>\n",
              "      <th>Total</th>\n",
              "      <td>1950.912</td>\n",
              "      <td>124</td>\n",
              "      <td></td>\n",
              "      <td></td>\n",
              "      <td></td>\n",
              "    </tr>\n",
              "  </tbody>\n",
              "</table>\n",
              "</div>"
            ],
            "text/plain": [
              "                SS   df       MS        F      P-Value\n",
              "Subjects  1375.712   24                               \n",
              "Weeks      121.152    4   30.288  6.40383  0.000130405\n",
              "Error      454.048   96  4.72967                      \n",
              "Total     1950.912  124                               "
            ]
          },
          "metadata": {
            "tags": []
          },
          "execution_count": 5
        }
      ]
    },
    {
      "cell_type": "code",
      "metadata": {
        "id": "hqxxUTblGPm0"
      },
      "source": [
        "#Create a dataframe as input for the cross-validation function of sklearn\r\n",
        "rm_dict = {}\r\n",
        "rm_dict[\"Subject\"] = []\r\n",
        "rm_dict[\"Week\"] = []\r\n",
        "rm_dict[\"Depression\"] = []\r\n",
        "\r\n",
        "for n in range(len(df)):\r\n",
        "  for m in df.columns:\r\n",
        "    rm_dict[\"Subject\"].append(df.index[n])\r\n",
        "    rm_dict[\"Week\"].append(m)\r\n",
        "    rm_dict[\"Depression\"].append(df[m][n])\r\n",
        "\r\n",
        "rm_df = pd.DataFrame(rm_dict)"
      ],
      "execution_count": 6,
      "outputs": []
    },
    {
      "cell_type": "code",
      "metadata": {
        "id": "UlRBgFzCGghE"
      },
      "source": [
        "#Function to compare 2 models (RM ANOVA)\r\n",
        "def compare_models(x, y, folds, groups, repetitions):\r\n",
        "\r\n",
        "  #Prediction by Mean (to pass to Sklearn’s cross-validation)  \r\n",
        "  class MeanPredictor():\r\n",
        "\r\n",
        "      def __init__(self, mean=None):\r\n",
        "        if mean is not None:\r\n",
        "          self.mean =mean\r\n",
        "        else:\r\n",
        "          self.mean=None\r\n",
        "\r\n",
        "      def fit(self, X, Y):\r\n",
        "        self.mean = np.mean(Y)\r\n",
        "\r\n",
        "      def predict(self, X):\r\n",
        "        return np.full(X.shape[0], self.mean)\r\n",
        "\r\n",
        "      def get_params(self, deep=False):\r\n",
        "        return {\"mean\":self.mean}\r\n",
        "  \r\n",
        "  #Initiate list container for the results and win count\r\n",
        "  result_list = []\r\n",
        "  win_count = 0\r\n",
        "\r\n",
        "  #Creat dummy variables for Regression\r\n",
        "  X = pd.get_dummies(x)\r\n",
        "\r\n",
        "  #For every repetition run cross-validation with mean & factor model\r\n",
        "  for n in range(repetitions):\r\n",
        "    gss = GroupShuffleSplit(n_splits=folds, test_size=0.1, random_state=n)\r\n",
        "\r\n",
        "    score1 = np.sqrt(cross_val_score(MeanPredictor(), X, y, groups = groups,\r\n",
        "                                    scoring='neg_mean_squared_error', cv=gss, \r\n",
        "                                    n_jobs=-1).mean()*-1)\r\n",
        "\r\n",
        "    score2 = np.sqrt(cross_val_score(LinearRegression(), X, y, groups = groups,\r\n",
        "                                    scoring='neg_mean_squared_error', cv=gss, \r\n",
        "                                    n_jobs=-1).mean()*-1)\r\n",
        "\r\n",
        "    #Count the winning model\r\n",
        "    if score1 < score2:\r\n",
        "      result_list.append([score1, 1, score2, 0])\r\n",
        "      win_count += 1\r\n",
        "\r\n",
        "    elif score1 > score2:\r\n",
        "      result_list.append([score1, 0, score2, 1])\r\n",
        "      win_count -=1\r\n",
        "\r\n",
        "    else:\r\n",
        "      result_list.append([score1, 1, score2, 1])\r\n",
        "\r\n",
        "  #Print the winner (if there is one)\r\n",
        "  if win_count > 0:\r\n",
        "     print(f\"Prediction by Mean wins in {win_count/repetitions*100}% of all repetitions!\")\r\n",
        "\r\n",
        "  elif win_count < 0:\r\n",
        "    print(f\"Factor Model wins in {win_count/repetitions*-100}% of all repetitions!\")\r\n",
        "\r\n",
        "  else:\r\n",
        "    print(\"Models are even\")\r\n",
        "  \r\n",
        "  #Create a dataframe of the RMSEs and the Wins for each model\r\n",
        "  column_names = [\"Prediction by Mean\", \"Win1\", \"Factor Model\", \"Win2\"]\r\n",
        "  df_list=pd.DataFrame(result_list, columns=column_names)\r\n",
        "  df_list.index += 1 \r\n",
        "  \r\n",
        "  return df_list"
      ],
      "execution_count": 7,
      "outputs": []
    },
    {
      "cell_type": "code",
      "metadata": {
        "colab": {
          "base_uri": "https://localhost:8080/"
        },
        "id": "yBtM4yhEH1a7",
        "outputId": "51e05519-ed0a-4274-a955-647d779f47af"
      },
      "source": [
        "#Run the analysis with cross-validation\r\n",
        "comparison_rm = compare_models(rm_df[\"Week\"], rm_df[\"Depression\"], \r\n",
        "                               groups=rm_df[\"Subject\"], folds=10, \r\n",
        "                               repetitions=100)"
      ],
      "execution_count": 8,
      "outputs": [
        {
          "output_type": "stream",
          "text": [
            "Factor Model wins in 90.0% of all repetitions!\n"
          ],
          "name": "stdout"
        }
      ]
    },
    {
      "cell_type": "code",
      "metadata": {
        "colab": {
          "base_uri": "https://localhost:8080/",
          "height": 283
        },
        "id": "VZS8HgQrJw_j",
        "outputId": "b5b3758b-a4c9-4863-93f6-13188756b60f"
      },
      "source": [
        "#Create box plot to compare RMSEp of both models\r\n",
        "def plot_rmse(df):\r\n",
        "\r\n",
        "  plt.figure()\r\n",
        "  box_df = df[[\"Prediction by Mean\", \"Factor Model\"]]\r\n",
        "  box = sns.boxplot(data = box_df)\r\n",
        "  box = sns.swarmplot(data = box_df, color=\".25\")\r\n",
        "  print(box)\r\n",
        "\r\n",
        "plot_rmse(comparison_rm)"
      ],
      "execution_count": 10,
      "outputs": [
        {
          "output_type": "stream",
          "text": [
            "AxesSubplot(0.125,0.125;0.775x0.755)\n"
          ],
          "name": "stdout"
        },
        {
          "output_type": "display_data",
          "data": {
            "image/png": "[encoded data removed]",
            "text/plain": [
              "<Figure size 432x288 with 1 Axes>"
            ]
          },
          "metadata": {
            "tags": [],
            "needs_background": "light"
          }
        }
      ]
    }
  ]
}